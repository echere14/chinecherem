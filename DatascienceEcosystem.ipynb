{
 "cells": [
  {
   "cell_type": "markdown",
   "id": "f7823023",
   "metadata": {},
   "source": [
    "# Data science tools and ecosystem"
   ]
  },
  {
   "cell_type": "markdown",
   "id": "f8cf97c8",
   "metadata": {},
   "source": [
    "In this notebook,Data science tools and Ecosystem are summarized."
   ]
  },
  {
   "cell_type": "markdown",
   "id": "35b18350",
   "metadata": {},
   "source": [
    "Some of the popular languages that Data scientist use are:\n",
    "1.python\n",
    "2.SQL\n",
    "3.Java\n",
    "4.Scala"
   ]
  },
  {
   "cell_type": "markdown",
   "id": "fe550c23",
   "metadata": {},
   "source": [
    "Some of the commonly used libraries used by Data scientist include:\n",
    "1.TensorFlow\n",
    "2.SciPy\n",
    "3.Scikit-learn\n",
    "4.PyTorch"
   ]
  },
  {
   "cell_type": "markdown",
   "id": "08c82837",
   "metadata": {},
   "source": [
    "##\n",
    "|Data science Tools|\n",
    "|------------------|\n",
    "|Rstudio|\n",
    "|Apache spark|\n",
    "|TensorFlow|"
   ]
  },
  {
   "cell_type": "markdown",
   "id": "e59c6f23",
   "metadata": {},
   "source": [
    "###  Below are a few examples of evaluating arithmetic expressions in python."
   ]
  },
  {
   "cell_type": "markdown",
   "id": "ab2f8e48",
   "metadata": {},
   "source": [
    "This is a simple arithemetic expression to multiply then add integers."
   ]
  },
  {
   "cell_type": "code",
   "execution_count": 2,
   "id": "c3903733",
   "metadata": {},
   "outputs": [
    {
     "data": {
      "text/plain": [
       "17"
      ]
     },
     "execution_count": 2,
     "metadata": {},
     "output_type": "execute_result"
    }
   ],
   "source": [
    "(3*4)+5"
   ]
  },
  {
   "cell_type": "markdown",
   "id": "38df856b",
   "metadata": {},
   "source": [
    "This will convert 200 minutes to hours by diving by 60"
   ]
  },
  {
   "cell_type": "code",
   "execution_count": 4,
   "id": "c26ba237",
   "metadata": {},
   "outputs": [
    {
     "data": {
      "text/plain": [
       "3.3333333333333335"
      ]
     },
     "execution_count": 4,
     "metadata": {},
     "output_type": "execute_result"
    }
   ],
   "source": [
    "200/60"
   ]
  },
  {
   "cell_type": "markdown",
   "id": "e9069733",
   "metadata": {},
   "source": [
    "# Objectives"
   ]
  },
  {
   "cell_type": "markdown",
   "id": "f09ff5e7",
   "metadata": {},
   "source": [
    "list popular languages for Data science\n",
    "SQL\n",
    "R.\n",
    "Java\n",
    "Julia\n",
    "Scala"
   ]
  },
  {
   "cell_type": "markdown",
   "id": "46258e69",
   "metadata": {},
   "source": [
    "## Author"
   ]
  },
  {
   "cell_type": "markdown",
   "id": "b88ca0b6",
   "metadata": {},
   "source": [
    "Enwere Chinecherem"
   ]
  },
  {
   "cell_type": "markdown",
   "id": "da22b2d1",
   "metadata": {},
   "source": []
  }
 ],
 "metadata": {
  "kernelspec": {
   "display_name": "Python 3 (ipykernel)",
   "language": "python",
   "name": "python3"
  },
  "language_info": {
   "codemirror_mode": {
    "name": "ipython",
    "version": 3
   },
   "file_extension": ".py",
   "mimetype": "text/x-python",
   "name": "python",
   "nbconvert_exporter": "python",
   "pygments_lexer": "ipython3",
   "version": "3.11.5"
  }
 },
 "nbformat": 4,
 "nbformat_minor": 5
}
